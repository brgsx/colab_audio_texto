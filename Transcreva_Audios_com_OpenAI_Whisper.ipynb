{
  "nbformat": 4,
  "nbformat_minor": 0,
  "metadata": {
    "colab": {
      "provenance": [],
      "include_colab_link": true
    },
    "kernelspec": {
      "name": "python3",
      "display_name": "Python 3"
    },
    "language_info": {
      "name": "python"
    },
    "accelerator": "GPU"
  },
  "cells": [
    {
      "cell_type": "markdown",
      "metadata": {
        "id": "view-in-github",
        "colab_type": "text"
      },
      "source": [
        "<a href=\"https://colab.research.google.com/github/brgsx/colab_audio_texto/blob/main/Transcreva_Audios_com_OpenAI_Whisper.ipynb\" target=\"_parent\"><img src=\"https://colab.research.google.com/assets/colab-badge.svg\" alt=\"Open In Colab\"/></a>"
      ]
    },
    {
      "cell_type": "markdown",
      "source": [
        "**Traduzido por** [Thiago Borges](https://www.linkedin.com/in/brgs/)\n",
        "\n",
        "\n",
        "**Tutorial: Utilizando o Whisper da OpenAI para Transcrição e Tradução de Áudio**\n",
        "---\n",
        "\n",
        "### **Introdução ao Whisper da OpenAI**\n",
        "\n",
        "O Whisper da OpenAI é um modelo de ponta para reconhecimento de fala, projetado para ser uma ferramenta versátil tanto na transcrição quanto na tradução de arquivos de áudio.\n",
        "\n",
        "Este modelo inovador está disponível gratuitamente e pode ser executado em uma GPU por meio do Google Colab.\n",
        "\n",
        "---\n",
        "\n",
        "### **Explorando o Whisper**\n",
        "\n",
        "Para uma compreensão mais aprofundada do Whisper, visite [o repositório GitHub da OpenAI dedicado ao Whisper](https://github.com/openai/whisper).\n",
        "\n",
        "Lá, você encontrará informações detalhadas sobre suas capacidades, instruções de uso e código-fonte.\n",
        "\n",
        "---\n",
        "\n",
        "### **Preparação Inicial**\n",
        "\n",
        "Antes de começar a usar o Whisper, você precisará de uma cópia do notebook do Google Colab. Siga estes passos simples para começar:\n",
        "\n",
        "1. **Salvar uma Cópia do Notebook:**\n",
        "   - Acesse o notebook do Whisper no Google Colab.\n",
        "   - No menu \"Arquivo\", escolha a opção “Salvar uma cópia no Drive”.\n",
        "   - Uma nova cópia será criada em seu Google Drive.\n",
        "\n",
        "2. **Abrindo o Notebook:**\n",
        "   - Vá até o seu Google Drive e localize a cópia salva do notebook Colab.\n",
        "   - Abra o notebook preferencialmente no navegador Google Chrome para um melhor desempenho."
      ],
      "metadata": {
        "id": "sICPfKnZCTVZ"
      }
    },
    {
      "cell_type": "markdown",
      "source": [
        "# Etapa Um: Instalação do Whisper\n",
        "\n",
        "Nesta etapa, você instalará a última versão disponível do Whisper diretamente do repositório da OpenAI no GitHub. Para isso, basta executar a célula de código apresentada abaixo."
      ],
      "metadata": {
        "id": "DEZezug-DzPB"
      }
    },
    {
      "cell_type": "code",
      "execution_count": null,
      "metadata": {
        "id": "XRRPAS8t1DXJ",
        "collapsed": true
      },
      "outputs": [],
      "source": [
        "# @title\n",
        "!pip install git+https://github.com/openai/whisper.git"
      ]
    },
    {
      "cell_type": "markdown",
      "source": [
        "# Etapa Dois: Instalar o ffmpeg\n",
        "---\n",
        "\n",
        "É necessário instalar o [ffmpeg](https://ffmpeg.org), uma solução multiplataforma para gravação, conversão e transmissão de áudio e vídeo. Basta executar a célula para realizar a instalação.\n",
        "\n",
        "---"
      ],
      "metadata": {
        "id": "2E86sIkRE96A"
      }
    },
    {
      "cell_type": "code",
      "source": [
        "!sudo apt update && sudo apt install ffmpeg"
      ],
      "metadata": {
        "id": "-YsDcsci1xRE",
        "collapsed": true
      },
      "execution_count": null,
      "outputs": []
    },
    {
      "cell_type": "markdown",
      "source": [
        "# Etapa Três: Carregamento do Arquivo\n",
        "---\n",
        "Nesta fase, você tem duas opções para fazer o upload do seu arquivo:\n",
        "\n",
        "**Opção 1: Upload Direto**\n",
        "- Execute a próxima célula no Colab que utiliza o comando `files.upload()`. Este método permite o upload direto do seu arquivo .mp3.\n",
        "\n",
        "**Opção 2: Upload Manual**\n",
        "- Abra a pasta de arquivos localizada no canto esquerdo do seu notebook Colab.\n",
        "- Arraste e solte o arquivo .mp3 que deseja transcrever na seção \"Arquivos\".\n",
        "\n",
        "---\n",
        "\n",
        "Ambas as opções carregarão o arquivo de áudio para o seu ambiente Colab, facilitando o acesso durante a transcrição.\n",
        "\n",
        "Após realizar o upload, você poderá visualizar o arquivo na seção de arquivos, confirmando que o processo foi bem-sucedido.\n",
        "\n",
        "![image.png](data:image/png;base64,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)\n",
        "\n",
        "---"
      ],
      "metadata": {
        "id": "FHH08HaDFQEs"
      }
    },
    {
      "cell_type": "code",
      "source": [
        "from google.colab import files\n",
        "files.upload()"
      ],
      "metadata": {
        "id": "dHkWSirLU9HD"
      },
      "execution_count": null,
      "outputs": []
    },
    {
      "cell_type": "markdown",
      "source": [
        "# Etapa Quatro: Transcrever\n",
        "\n",
        "---\n",
        "\n",
        "Para transcrever um arquivo .mp3, basta copiar e colar o título do seu arquivo .mp3 na linha de comando abaixo e executar a célula.\n",
        "\n",
        "Não se esqueça das aspas!\n",
        "\n",
        "---"
      ],
      "metadata": {
        "id": "D7j3VhEsGc4G"
      }
    },
    {
      "cell_type": "code",
      "source": [
        "!whisper \"audio_exemplo.mp3\" --model medium --language Portuguese"
      ],
      "metadata": {
        "id": "-1pP466t8kpv"
      },
      "execution_count": null,
      "outputs": []
    },
    {
      "cell_type": "markdown",
      "source": [
        "# /fim\n",
        "---\n",
        "Licença\n",
        "Licença MIT\n",
        "\n",
        "Direitos Autorais (c) 2022 Jason Boog\n",
        "\n",
        "É concedida permissão, gratuitamente, a qualquer pessoa que obtenha uma cópia deste software e dos arquivos de documentação associados (o \"Software\"), para lidar com o Software sem restrições, incluindo, sem limitações, os direitos de usar, copiar, modificar, mesclar, publicar, distribuir, sublicenciar e/ou vender cópias do Software, e permitir às pessoas a quem o Software é fornecido fazê-lo, sujeito às seguintes condições:\n",
        "\n",
        "A notificação de direitos autorais acima e esta notificação de permissão devem ser incluídas em todas as cópias ou partes substanciais do Software.\n",
        "\n",
        "O SOFTWARE É FORNECIDO \"COMO ESTÁ\", SEM GARANTIA DE QUALQUER TIPO, EXPRESSA OU IMPLÍCITA, INCLUINDO, MAS NÃO SE LIMITANDO ÀS GARANTIAS DE COMERCIALIZAÇÃO, ADEQUAÇÃO A UM PROPÓSITO ESPECÍFICO E NÃO VIOLAÇÃO. EM NENHUM CASO OS AUTORES OU DETENTORES DOS DIREITOS AUTORAIS SERÃO RESPONSÁVEIS POR QUALQUER REIVINDICAÇÃO, DANOS OU OUTRA RESPONSABILIDADE, SEJA EM AÇÃO DE CONTRATO, DELITO OU DE OUTRA FORMA, DECORRENTES DE, FORA DE OU EM CONEXÃO COM O SOFTWARE OU O USO OU OUTRAS NEGOCIAÇÕES NO SOFTWARE.\n",
        "\n",
        "Fonte: [Transcribe and Translate with OpenAI Whisper](https://colab.research.google.com/drive/1WLYoBvA3YNKQ0X2lC9udUOmjK7rZgAwr?usp=sharing#scrollTo=sICPfKnZCTVZ)"
      ],
      "metadata": {
        "id": "L9jzU75GL1N3"
      }
    }
  ]
}